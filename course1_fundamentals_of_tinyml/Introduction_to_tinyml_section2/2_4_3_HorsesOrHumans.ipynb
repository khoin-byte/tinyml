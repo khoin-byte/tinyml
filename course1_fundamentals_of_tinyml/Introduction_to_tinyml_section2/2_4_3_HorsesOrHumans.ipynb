{
  "nbformat": 4,
  "nbformat_minor": 0,
  "metadata": {
    "accelerator": "GPU",
    "colab": {
      "name": "2_4_3_HorsesOrHumans.ipynb",
      "provenance": [],
      "collapsed_sections": []
    },
    "kernelspec": {
      "display_name": "Python 3",
      "language": "python",
      "name": "python3"
    },
    "language_info": {
      "codemirror_mode": {
        "name": "ipython",
        "version": 3
      },
      "file_extension": ".py",
      "mimetype": "text/x-python",
      "name": "python",
      "nbconvert_exporter": "python",
      "pygments_lexer": "ipython3",
      "version": "3.6.9"
    }
  },
  "cells": [
    {
      "cell_type": "code",
      "metadata": {
        "id": "zX4Kg8DUTKWO"
      },
      "source": [
        "#@title Licensed under the Apache License, Version 2.0 (the \"License\");\n",
        "# you may not use this file except in compliance with the License.\n",
        "# You may obtain a copy of the License at\n",
        "#\n",
        "# https://www.apache.org/licenses/LICENSE-2.0\n",
        "#\n",
        "# Unless required by applicable law or agreed to in writing, software\n",
        "# distributed under the License is distributed on an \"AS IS\" BASIS,\n",
        "# WITHOUT WARRANTIES OR CONDITIONS OF ANY KIND, either express or implied.\n",
        "# See the License for the specific language governing permissions and\n",
        "# limitations under the License."
      ],
      "execution_count": null,
      "outputs": []
    },
    {
      "cell_type": "markdown",
      "metadata": {
        "id": "WyiYQL32R3Vg"
      },
      "source": [
        "## Download the neccessary data into the Colab Instance"
      ]
    },
    {
      "cell_type": "code",
      "metadata": {
        "id": "ioLbtB3uGKPX"
      },
      "source": [
        "try:\n",
        "  # %tensorflow_version only exists in Colab.\n",
        "  %tensorflow_version 2.x\n",
        "except Exception:\n",
        "  pass"
      ],
      "execution_count": null,
      "outputs": []
    },
    {
      "cell_type": "code",
      "metadata": {
        "id": "RXZT2UsyIVe_",
        "colab": {
          "base_uri": "https://localhost:8080/"
        },
        "outputId": "f73d1b3b-377c-40ad-aff8-3fc6cdd08235"
      },
      "source": [
        "!wget --no-check-certificate \\\n",
        "    https://storage.googleapis.com/laurencemoroney-blog.appspot.com/horse-or-human.zip \\\n",
        "    -O /tmp/horse-or-human.zip\n",
        "\n",
        "!wget --no-check-certificate \\\n",
        "    https://storage.googleapis.com/laurencemoroney-blog.appspot.com/validation-horse-or-human.zip \\\n",
        "    -O /tmp/validation-horse-or-human.zip"
      ],
      "execution_count": null,
      "outputs": [
        {
          "output_type": "stream",
          "text": [
            "--2021-06-02 00:21:07--  https://storage.googleapis.com/laurencemoroney-blog.appspot.com/horse-or-human.zip\n",
            "Resolving storage.googleapis.com (storage.googleapis.com)... 142.250.73.208, 172.253.62.128, 172.253.115.128, ...\n",
            "Connecting to storage.googleapis.com (storage.googleapis.com)|142.250.73.208|:443... connected.\n",
            "HTTP request sent, awaiting response... 200 OK\n",
            "Length: 149574867 (143M) [application/zip]\n",
            "Saving to: ‘/tmp/horse-or-human.zip’\n",
            "\n",
            "/tmp/horse-or-human 100%[===================>] 142.65M  77.7MB/s    in 1.8s    \n",
            "\n",
            "2021-06-02 00:21:09 (77.7 MB/s) - ‘/tmp/horse-or-human.zip’ saved [149574867/149574867]\n",
            "\n",
            "--2021-06-02 00:21:09--  https://storage.googleapis.com/laurencemoroney-blog.appspot.com/validation-horse-or-human.zip\n",
            "Resolving storage.googleapis.com (storage.googleapis.com)... 142.250.65.80, 172.253.63.128, 142.250.31.128, ...\n",
            "Connecting to storage.googleapis.com (storage.googleapis.com)|142.250.65.80|:443... connected.\n",
            "HTTP request sent, awaiting response... 200 OK\n",
            "Length: 11480187 (11M) [application/zip]\n",
            "Saving to: ‘/tmp/validation-horse-or-human.zip’\n",
            "\n",
            "/tmp/validation-hor 100%[===================>]  10.95M  --.-KB/s    in 0.1s    \n",
            "\n",
            "2021-06-02 00:21:09 (99.2 MB/s) - ‘/tmp/validation-horse-or-human.zip’ saved [11480187/11480187]\n",
            "\n"
          ],
          "name": "stdout"
        }
      ]
    },
    {
      "cell_type": "code",
      "metadata": {
        "id": "PLy3pthUS0D2"
      },
      "source": [
        "import os\n",
        "import zipfile\n",
        "\n",
        "local_zip = '/tmp/horse-or-human.zip'\n",
        "zip_ref = zipfile.ZipFile(local_zip, 'r')\n",
        "zip_ref.extractall('/tmp/horse-or-human')\n",
        "local_zip = '/tmp/validation-horse-or-human.zip'\n",
        "zip_ref = zipfile.ZipFile(local_zip, 'r')\n",
        "zip_ref.extractall('/tmp/validation-horse-or-human')\n",
        "zip_ref.close()"
      ],
      "execution_count": null,
      "outputs": []
    },
    {
      "cell_type": "code",
      "metadata": {
        "id": "WwuabikGR3Vh",
        "colab": {
          "base_uri": "https://localhost:8080/"
        },
        "outputId": "d23560a3-3cea-484b-b655-d0d7a927b4d8"
      },
      "source": [
        "# Directory with our training horse pictures\n",
        "train_horse_dir = os.path.join('/tmp/horse-or-human/horses')\n",
        "# Directory with our training human pictures\n",
        "train_human_dir = os.path.join('/tmp/horse-or-human/humans')\n",
        "# Directory with our training horse pictures\n",
        "validation_horse_dir = os.path.join('/tmp/validation-horse-or-human/horses')\n",
        "# Directory with our training human pictures\n",
        "validation_human_dir = os.path.join('/tmp/validation-horse-or-human/humans')\n",
        "train_horse_names = os.listdir('/tmp/horse-or-human/horses')\n",
        "print(train_horse_names[:10])\n",
        "train_human_names = os.listdir('/tmp/horse-or-human/humans')\n",
        "print(train_human_names[:10])\n",
        "validation_horse_hames = os.listdir('/tmp/validation-horse-or-human/horses')\n",
        "print(validation_horse_hames[:10])\n",
        "validation_human_names = os.listdir('/tmp/validation-horse-or-human/humans')\n",
        "print(validation_human_names[:10])"
      ],
      "execution_count": null,
      "outputs": [
        {
          "output_type": "stream",
          "text": [
            "['horse31-0.png', 'horse34-3.png', 'horse08-9.png', 'horse25-2.png', 'horse07-2.png', 'horse45-9.png', 'horse38-3.png', 'horse33-1.png', 'horse10-2.png', 'horse15-2.png']\n",
            "['human02-06.png', 'human07-23.png', 'human08-29.png', 'human03-05.png', 'human14-05.png', 'human13-21.png', 'human05-09.png', 'human16-23.png', 'human15-05.png', 'human03-25.png']\n",
            "['horse5-076.png', 'horse1-411.png', 'horse4-530.png', 'horse4-102.png', 'horse2-218.png', 'horse6-403.png', 'horse4-556.png', 'horse5-002.png', 'horse5-032.png', 'horse5-550.png']\n",
            "['valhuman04-08.png', 'valhuman03-10.png', 'valhuman05-18.png', 'valhuman05-08.png', 'valhuman01-00.png', 'valhuman04-10.png', 'valhuman04-18.png', 'valhuman04-02.png', 'valhuman04-17.png', 'valhuman01-20.png']\n"
          ],
          "name": "stdout"
        }
      ]
    },
    {
      "cell_type": "code",
      "metadata": {
        "id": "qvfZg3LQbD-5"
      },
      "source": [
        "import tensorflow as tf"
      ],
      "execution_count": null,
      "outputs": []
    },
    {
      "cell_type": "markdown",
      "metadata": {
        "id": "2cd7ECxpR3Vi"
      },
      "source": [
        "## Define your model and optimizer"
      ]
    },
    {
      "cell_type": "code",
      "metadata": {
        "id": "PixZ2s5QbYQ3"
      },
      "source": [
        "model = tf.keras.models.Sequential([\n",
        "    # Note the input shape is the desired size of the image with 3 bytes color\n",
        "    # This is the first convolution\n",
        "    tf.keras.layers.Conv2D(32, (3,3), activation='relu', input_shape=(100, 100, 3)),\n",
        "    tf.keras.layers.MaxPooling2D(2, 2),\n",
        "    # The second convolution\n",
        "    tf.keras.layers.Conv2D(64, (3,3), activation='relu'),\n",
        "    tf.keras.layers.MaxPooling2D(2,2),\n",
        "    # The third convolution\n",
        "    tf.keras.layers.Conv2D(128, (3,3), activation='relu'),\n",
        "    tf.keras.layers.MaxPooling2D(2,2),\n",
        "    # The fourth convolution\n",
        "    tf.keras.layers.Conv2D(256, (3,3), activation='relu'),\n",
        "    tf.keras.layers.MaxPooling2D(2,2),\n",
        "    # Flatten the results to feed into a DNN\n",
        "    tf.keras.layers.Flatten(),\n",
        "    # 512 neuron hidden layer\n",
        "    tf.keras.layers.Dense(512, activation='relu'),\n",
        "    tf.keras.layers.Dense(256, activation='relu'),\n",
        "    # Only 1 output neuron. It will contain a value from 0-1 where 0 for 1 class ('horses') and 1 for the other ('humans')\n",
        "    tf.keras.layers.Dense(1, activation='sigmoid')\n",
        "])"
      ],
      "execution_count": null,
      "outputs": []
    },
    {
      "cell_type": "code",
      "metadata": {
        "id": "pMDg5mJxDrBq",
        "colab": {
          "base_uri": "https://localhost:8080/"
        },
        "outputId": "4b73aa03-416c-48dc-bb52-00cd5fc38c73"
      },
      "source": [
        "print(model.summary())"
      ],
      "execution_count": null,
      "outputs": [
        {
          "output_type": "stream",
          "text": [
            "Model: \"sequential\"\n",
            "_________________________________________________________________\n",
            "Layer (type)                 Output Shape              Param #   \n",
            "=================================================================\n",
            "conv2d (Conv2D)              (None, 98, 98, 32)        896       \n",
            "_________________________________________________________________\n",
            "max_pooling2d (MaxPooling2D) (None, 49, 49, 32)        0         \n",
            "_________________________________________________________________\n",
            "conv2d_1 (Conv2D)            (None, 47, 47, 64)        18496     \n",
            "_________________________________________________________________\n",
            "max_pooling2d_1 (MaxPooling2 (None, 23, 23, 64)        0         \n",
            "_________________________________________________________________\n",
            "conv2d_2 (Conv2D)            (None, 21, 21, 128)       73856     \n",
            "_________________________________________________________________\n",
            "max_pooling2d_2 (MaxPooling2 (None, 10, 10, 128)       0         \n",
            "_________________________________________________________________\n",
            "conv2d_3 (Conv2D)            (None, 8, 8, 256)         295168    \n",
            "_________________________________________________________________\n",
            "max_pooling2d_3 (MaxPooling2 (None, 4, 4, 256)         0         \n",
            "_________________________________________________________________\n",
            "flatten (Flatten)            (None, 4096)              0         \n",
            "_________________________________________________________________\n",
            "dense (Dense)                (None, 512)               2097664   \n",
            "_________________________________________________________________\n",
            "dense_1 (Dense)              (None, 256)               131328    \n",
            "_________________________________________________________________\n",
            "dense_2 (Dense)              (None, 1)                 257       \n",
            "=================================================================\n",
            "Total params: 2,617,665\n",
            "Trainable params: 2,617,665\n",
            "Non-trainable params: 0\n",
            "_________________________________________________________________\n",
            "None\n"
          ],
          "name": "stdout"
        }
      ]
    },
    {
      "cell_type": "code",
      "metadata": {
        "id": "8DHWhFP_uhq3",
        "colab": {
          "base_uri": "https://localhost:8080/"
        },
        "outputId": "8431d30f-d1c6-4957-e469-35ad0a8e2d9e"
      },
      "source": [
        "from tensorflow.keras.optimizers import RMSprop\n",
        "optimizer = RMSprop(lr=0.0001)\n",
        "model.compile(loss='binary_crossentropy',\n",
        "              optimizer=optimizer,\n",
        "              metrics=['acc'])"
      ],
      "execution_count": null,
      "outputs": [
        {
          "output_type": "stream",
          "text": [
            "/usr/local/lib/python3.7/dist-packages/tensorflow/python/keras/optimizer_v2/optimizer_v2.py:375: UserWarning: The `lr` argument is deprecated, use `learning_rate` instead.\n",
            "  \"The `lr` argument is deprecated, use `learning_rate` instead.\")\n"
          ],
          "name": "stderr"
        }
      ]
    },
    {
      "cell_type": "markdown",
      "metadata": {
        "id": "wgON_hpSR3Vj"
      },
      "source": [
        "## Organize your data into Generators"
      ]
    },
    {
      "cell_type": "code",
      "metadata": {
        "id": "ClebU9NJg99G",
        "colab": {
          "base_uri": "https://localhost:8080/"
        },
        "outputId": "ef6bcc36-ff10-459c-d90d-2a45c67bbeac"
      },
      "source": [
        "from tensorflow.keras.preprocessing.image import ImageDataGenerator\n",
        "\n",
        "# All images will be augmented according to whichever lines are uncommented below.\n",
        "# we can first try without any of the augmentation beyond the rescaling\n",
        "train_datagen = ImageDataGenerator(\n",
        "      rescale=1./255,\n",
        "      #rotation_range=40,\n",
        "      #width_shift_range=0.2,\n",
        "      #height_shift_range=0.2,\n",
        "      #shear_range=0.2,\n",
        "      #zoom_range=0.2,\n",
        "      #horizontal_flip=True,\n",
        "      #fill_mode='nearest'\n",
        "      )\n",
        "\n",
        "# Flow training images in batches of 128 using train_datagen generator\n",
        "train_generator = train_datagen.flow_from_directory(\n",
        "        '/tmp/horse-or-human/',  # This is the source directory for training images\n",
        "        target_size=(100, 100),  # All images will be resized to 300x300\n",
        "        batch_size=128,\n",
        "        # Since we use binary_crossentropy loss, we need binary labels\n",
        "        class_mode='binary')\n",
        "\n",
        "validation_datagen = ImageDataGenerator(rescale=1./255)\n",
        "\n",
        "validation_generator = validation_datagen.flow_from_directory(\n",
        "        '/tmp/validation-horse-or-human',\n",
        "        target_size=(100, 100),\n",
        "        class_mode='binary')\n"
      ],
      "execution_count": null,
      "outputs": [
        {
          "output_type": "stream",
          "text": [
            "Found 1027 images belonging to 2 classes.\n",
            "Found 256 images belonging to 2 classes.\n"
          ],
          "name": "stdout"
        }
      ]
    },
    {
      "cell_type": "markdown",
      "metadata": {
        "id": "_doVZoHAR3Vk"
      },
      "source": [
        "## Train your model\n",
        "This may take a little while. Remember we are now building and training relatively complex computer vision models!"
      ]
    },
    {
      "cell_type": "code",
      "metadata": {
        "id": "Fb1_lgobv81m",
        "colab": {
          "base_uri": "https://localhost:8080/"
        },
        "outputId": "d1e25055-1384-4c73-ec58-f230570c82ef"
      },
      "source": [
        "history = model.fit(\n",
        "      train_generator,\n",
        "      steps_per_epoch=8,  \n",
        "      epochs=100,\n",
        "      verbose=1,\n",
        "      validation_data=validation_generator)"
      ],
      "execution_count": null,
      "outputs": [
        {
          "output_type": "stream",
          "text": [
            "Epoch 1/100\n",
            "8/8 [==============================] - 38s 683ms/step - loss: 0.6636 - acc: 0.5908 - val_loss: 0.6635 - val_acc: 0.5156\n",
            "Epoch 2/100\n",
            "8/8 [==============================] - 6s 690ms/step - loss: 0.5207 - acc: 0.8142 - val_loss: 0.4645 - val_acc: 0.8125\n",
            "Epoch 3/100\n",
            "8/8 [==============================] - 6s 694ms/step - loss: 0.3589 - acc: 0.9055 - val_loss: 0.3461 - val_acc: 0.8789\n",
            "Epoch 4/100\n",
            "8/8 [==============================] - 6s 717ms/step - loss: 0.2832 - acc: 0.8984 - val_loss: 0.4811 - val_acc: 0.8672\n",
            "Epoch 5/100\n",
            "8/8 [==============================] - 5s 674ms/step - loss: 0.2654 - acc: 0.9099 - val_loss: 0.6430 - val_acc: 0.8242\n",
            "Epoch 6/100\n",
            "8/8 [==============================] - 6s 716ms/step - loss: 0.1756 - acc: 0.9531 - val_loss: 0.5965 - val_acc: 0.8555\n",
            "Epoch 7/100\n",
            "8/8 [==============================] - 6s 691ms/step - loss: 0.1716 - acc: 0.9388 - val_loss: 0.6575 - val_acc: 0.8594\n",
            "Epoch 8/100\n",
            "8/8 [==============================] - 5s 765ms/step - loss: 0.1535 - acc: 0.9511 - val_loss: 1.1840 - val_acc: 0.7969\n",
            "Epoch 9/100\n",
            "8/8 [==============================] - 5s 678ms/step - loss: 0.1301 - acc: 0.9566 - val_loss: 0.8905 - val_acc: 0.8438\n",
            "Epoch 10/100\n",
            "8/8 [==============================] - 5s 680ms/step - loss: 0.1637 - acc: 0.9399 - val_loss: 0.9112 - val_acc: 0.8398\n",
            "Epoch 11/100\n",
            "8/8 [==============================] - 5s 686ms/step - loss: 0.1089 - acc: 0.9611 - val_loss: 1.1079 - val_acc: 0.8125\n",
            "Epoch 12/100\n",
            "8/8 [==============================] - 5s 677ms/step - loss: 0.0936 - acc: 0.9744 - val_loss: 0.9035 - val_acc: 0.8555\n",
            "Epoch 13/100\n",
            "8/8 [==============================] - 6s 698ms/step - loss: 0.1143 - acc: 0.9622 - val_loss: 1.1294 - val_acc: 0.8203\n",
            "Epoch 14/100\n",
            "8/8 [==============================] - 5s 673ms/step - loss: 0.2152 - acc: 0.9310 - val_loss: 0.9740 - val_acc: 0.8398\n",
            "Epoch 15/100\n",
            "8/8 [==============================] - 5s 674ms/step - loss: 0.0838 - acc: 0.9711 - val_loss: 0.9007 - val_acc: 0.8516\n",
            "Epoch 16/100\n",
            "8/8 [==============================] - 5s 672ms/step - loss: 0.0705 - acc: 0.9800 - val_loss: 0.9617 - val_acc: 0.8477\n",
            "Epoch 17/100\n",
            "8/8 [==============================] - 5s 675ms/step - loss: 0.0660 - acc: 0.9800 - val_loss: 1.0886 - val_acc: 0.8398\n",
            "Epoch 18/100\n",
            "8/8 [==============================] - 5s 679ms/step - loss: 0.0737 - acc: 0.9744 - val_loss: 1.1128 - val_acc: 0.8359\n",
            "Epoch 19/100\n",
            "8/8 [==============================] - 6s 713ms/step - loss: 0.0788 - acc: 0.9727 - val_loss: 1.2617 - val_acc: 0.8125\n",
            "Epoch 20/100\n",
            "8/8 [==============================] - 6s 697ms/step - loss: 0.0585 - acc: 0.9811 - val_loss: 1.2050 - val_acc: 0.8320\n",
            "Epoch 21/100\n",
            "8/8 [==============================] - 5s 672ms/step - loss: 0.0453 - acc: 0.9867 - val_loss: 1.1023 - val_acc: 0.8477\n",
            "Epoch 22/100\n",
            "8/8 [==============================] - 5s 687ms/step - loss: 0.0457 - acc: 0.9822 - val_loss: 1.4841 - val_acc: 0.8086\n",
            "Epoch 23/100\n",
            "8/8 [==============================] - 5s 681ms/step - loss: 0.0679 - acc: 0.9711 - val_loss: 1.1689 - val_acc: 0.8359\n",
            "Epoch 24/100\n",
            "8/8 [==============================] - 5s 688ms/step - loss: 0.0305 - acc: 0.9878 - val_loss: 1.0900 - val_acc: 0.8594\n",
            "Epoch 25/100\n",
            "8/8 [==============================] - 5s 676ms/step - loss: 0.0358 - acc: 0.9878 - val_loss: 1.3658 - val_acc: 0.8320\n",
            "Epoch 26/100\n",
            "8/8 [==============================] - 5s 671ms/step - loss: 0.0250 - acc: 0.9911 - val_loss: 0.9710 - val_acc: 0.8828\n",
            "Epoch 27/100\n",
            "8/8 [==============================] - 5s 679ms/step - loss: 0.0269 - acc: 0.9889 - val_loss: 1.7515 - val_acc: 0.8203\n",
            "Epoch 28/100\n",
            "8/8 [==============================] - 5s 679ms/step - loss: 0.0351 - acc: 0.9900 - val_loss: 1.1841 - val_acc: 0.8594\n",
            "Epoch 29/100\n",
            "8/8 [==============================] - 5s 685ms/step - loss: 0.0225 - acc: 0.9933 - val_loss: 1.3718 - val_acc: 0.8477\n",
            "Epoch 30/100\n",
            "8/8 [==============================] - 5s 765ms/step - loss: 0.0159 - acc: 0.9967 - val_loss: 1.6907 - val_acc: 0.8320\n",
            "Epoch 31/100\n",
            "8/8 [==============================] - 6s 714ms/step - loss: 0.0139 - acc: 0.9980 - val_loss: 1.5974 - val_acc: 0.8320\n",
            "Epoch 32/100\n",
            "8/8 [==============================] - 6s 712ms/step - loss: 0.0150 - acc: 0.9961 - val_loss: 1.5294 - val_acc: 0.8477\n",
            "Epoch 33/100\n",
            "8/8 [==============================] - 5s 683ms/step - loss: 0.0069 - acc: 1.0000 - val_loss: 1.5725 - val_acc: 0.8516\n",
            "Epoch 34/100\n",
            "8/8 [==============================] - 6s 718ms/step - loss: 0.0234 - acc: 0.9912 - val_loss: 1.7439 - val_acc: 0.8359\n",
            "Epoch 35/100\n",
            "8/8 [==============================] - 5s 678ms/step - loss: 0.0057 - acc: 1.0000 - val_loss: 1.7707 - val_acc: 0.8438\n",
            "Epoch 36/100\n",
            "8/8 [==============================] - 6s 721ms/step - loss: 0.0038 - acc: 1.0000 - val_loss: 1.8611 - val_acc: 0.8438\n",
            "Epoch 37/100\n",
            "8/8 [==============================] - 6s 695ms/step - loss: 0.0120 - acc: 0.9944 - val_loss: 3.3065 - val_acc: 0.7148\n",
            "Epoch 38/100\n",
            "8/8 [==============================] - 6s 720ms/step - loss: 0.0169 - acc: 0.9932 - val_loss: 1.9972 - val_acc: 0.8359\n",
            "Epoch 39/100\n",
            "8/8 [==============================] - 5s 688ms/step - loss: 0.0032 - acc: 1.0000 - val_loss: 1.9673 - val_acc: 0.8477\n",
            "Epoch 40/100\n",
            "8/8 [==============================] - 5s 676ms/step - loss: 0.0029 - acc: 1.0000 - val_loss: 2.3076 - val_acc: 0.8320\n",
            "Epoch 41/100\n",
            "8/8 [==============================] - 5s 671ms/step - loss: 0.0025 - acc: 1.0000 - val_loss: 2.1242 - val_acc: 0.8438\n",
            "Epoch 42/100\n",
            "8/8 [==============================] - 6s 713ms/step - loss: 0.0586 - acc: 0.9766 - val_loss: 2.3131 - val_acc: 0.8125\n",
            "Epoch 43/100\n",
            "8/8 [==============================] - 5s 680ms/step - loss: 0.0123 - acc: 0.9967 - val_loss: 1.8791 - val_acc: 0.8398\n",
            "Epoch 44/100\n",
            "8/8 [==============================] - 6s 719ms/step - loss: 0.0032 - acc: 1.0000 - val_loss: 1.8140 - val_acc: 0.8398\n",
            "Epoch 45/100\n",
            "8/8 [==============================] - 5s 678ms/step - loss: 0.0020 - acc: 1.0000 - val_loss: 1.8966 - val_acc: 0.8398\n",
            "Epoch 46/100\n",
            "8/8 [==============================] - 5s 677ms/step - loss: 0.0017 - acc: 1.0000 - val_loss: 2.0615 - val_acc: 0.8398\n",
            "Epoch 47/100\n",
            "8/8 [==============================] - 5s 677ms/step - loss: 0.0014 - acc: 1.0000 - val_loss: 2.0767 - val_acc: 0.8438\n",
            "Epoch 48/100\n",
            "8/8 [==============================] - 5s 673ms/step - loss: 8.9596e-04 - acc: 1.0000 - val_loss: 2.2171 - val_acc: 0.8398\n",
            "Epoch 49/100\n",
            "8/8 [==============================] - 5s 763ms/step - loss: 0.0176 - acc: 0.9933 - val_loss: 2.4731 - val_acc: 0.8320\n",
            "Epoch 50/100\n",
            "8/8 [==============================] - 6s 700ms/step - loss: 0.0010 - acc: 1.0000 - val_loss: 2.2581 - val_acc: 0.8477\n",
            "Epoch 51/100\n",
            "8/8 [==============================] - 5s 674ms/step - loss: 8.3135e-04 - acc: 1.0000 - val_loss: 2.3631 - val_acc: 0.8438\n",
            "Epoch 52/100\n",
            "8/8 [==============================] - 5s 770ms/step - loss: 6.8377e-04 - acc: 1.0000 - val_loss: 2.4029 - val_acc: 0.8398\n",
            "Epoch 53/100\n",
            "8/8 [==============================] - 5s 675ms/step - loss: 5.4804e-04 - acc: 1.0000 - val_loss: 2.3130 - val_acc: 0.8516\n",
            "Epoch 54/100\n",
            "8/8 [==============================] - 5s 676ms/step - loss: 6.8041e-04 - acc: 1.0000 - val_loss: 2.5361 - val_acc: 0.8398\n",
            "Epoch 55/100\n",
            "8/8 [==============================] - 6s 688ms/step - loss: 4.9551e-04 - acc: 1.0000 - val_loss: 2.3877 - val_acc: 0.8555\n",
            "Epoch 56/100\n",
            "8/8 [==============================] - 5s 771ms/step - loss: 0.0247 - acc: 0.9911 - val_loss: 2.2158 - val_acc: 0.8438\n",
            "Epoch 57/100\n",
            "8/8 [==============================] - 5s 675ms/step - loss: 6.6672e-04 - acc: 1.0000 - val_loss: 2.1875 - val_acc: 0.8438\n",
            "Epoch 58/100\n",
            "8/8 [==============================] - 5s 760ms/step - loss: 5.8834e-04 - acc: 1.0000 - val_loss: 2.3490 - val_acc: 0.8438\n",
            "Epoch 59/100\n",
            "8/8 [==============================] - 5s 673ms/step - loss: 3.2370e-04 - acc: 1.0000 - val_loss: 2.3743 - val_acc: 0.8438\n",
            "Epoch 60/100\n",
            "8/8 [==============================] - 5s 680ms/step - loss: 2.6688e-04 - acc: 1.0000 - val_loss: 2.5030 - val_acc: 0.8398\n",
            "Epoch 61/100\n",
            "8/8 [==============================] - 5s 677ms/step - loss: 2.2268e-04 - acc: 1.0000 - val_loss: 2.4790 - val_acc: 0.8555\n",
            "Epoch 62/100\n",
            "8/8 [==============================] - 6s 698ms/step - loss: 1.9143e-04 - acc: 1.0000 - val_loss: 2.6639 - val_acc: 0.8438\n",
            "Epoch 63/100\n",
            "8/8 [==============================] - 5s 675ms/step - loss: 1.4805e-04 - acc: 1.0000 - val_loss: 2.5363 - val_acc: 0.8555\n",
            "Epoch 64/100\n",
            "8/8 [==============================] - 5s 680ms/step - loss: 2.4293e-04 - acc: 1.0000 - val_loss: 3.6926 - val_acc: 0.7969\n",
            "Epoch 65/100\n",
            "8/8 [==============================] - 6s 680ms/step - loss: 0.0583 - acc: 0.9833 - val_loss: 2.5466 - val_acc: 0.8398\n",
            "Epoch 66/100\n",
            "8/8 [==============================] - 6s 722ms/step - loss: 9.6305e-04 - acc: 1.0000 - val_loss: 2.5051 - val_acc: 0.8398\n",
            "Epoch 67/100\n",
            "8/8 [==============================] - 5s 676ms/step - loss: 5.6510e-04 - acc: 1.0000 - val_loss: 2.4989 - val_acc: 0.8438\n",
            "Epoch 68/100\n",
            "8/8 [==============================] - 6s 783ms/step - loss: 3.3864e-04 - acc: 1.0000 - val_loss: 2.5286 - val_acc: 0.8438\n",
            "Epoch 69/100\n",
            "8/8 [==============================] - 6s 698ms/step - loss: 2.7273e-04 - acc: 1.0000 - val_loss: 2.5373 - val_acc: 0.8438\n",
            "Epoch 70/100\n",
            "8/8 [==============================] - 5s 762ms/step - loss: 2.1780e-04 - acc: 1.0000 - val_loss: 2.6080 - val_acc: 0.8477\n",
            "Epoch 71/100\n",
            "8/8 [==============================] - 5s 672ms/step - loss: 1.4836e-04 - acc: 1.0000 - val_loss: 2.6398 - val_acc: 0.8477\n",
            "Epoch 72/100\n",
            "8/8 [==============================] - 5s 675ms/step - loss: 1.2401e-04 - acc: 1.0000 - val_loss: 2.6956 - val_acc: 0.8477\n",
            "Epoch 73/100\n",
            "8/8 [==============================] - 5s 767ms/step - loss: 9.8955e-05 - acc: 1.0000 - val_loss: 2.8635 - val_acc: 0.8477\n",
            "Epoch 74/100\n",
            "8/8 [==============================] - 5s 675ms/step - loss: 8.1428e-05 - acc: 1.0000 - val_loss: 2.9410 - val_acc: 0.8477\n",
            "Epoch 75/100\n",
            "8/8 [==============================] - 5s 677ms/step - loss: 5.1376e-05 - acc: 1.0000 - val_loss: 3.0602 - val_acc: 0.8477\n",
            "Epoch 76/100\n",
            "8/8 [==============================] - 5s 683ms/step - loss: 5.7719e-05 - acc: 1.0000 - val_loss: 2.9515 - val_acc: 0.8555\n",
            "Epoch 77/100\n",
            "8/8 [==============================] - 5s 764ms/step - loss: 3.9035e-05 - acc: 1.0000 - val_loss: 3.1690 - val_acc: 0.8477\n",
            "Epoch 78/100\n",
            "8/8 [==============================] - 5s 673ms/step - loss: 3.1628e-05 - acc: 1.0000 - val_loss: 3.5483 - val_acc: 0.8359\n",
            "Epoch 79/100\n",
            "8/8 [==============================] - 5s 763ms/step - loss: 0.0251 - acc: 0.9933 - val_loss: 2.6628 - val_acc: 0.8477\n",
            "Epoch 80/100\n",
            "8/8 [==============================] - 5s 684ms/step - loss: 2.3841e-04 - acc: 1.0000 - val_loss: 2.7659 - val_acc: 0.8477\n",
            "Epoch 81/100\n",
            "8/8 [==============================] - 6s 724ms/step - loss: 1.3749e-04 - acc: 1.0000 - val_loss: 2.7987 - val_acc: 0.8477\n",
            "Epoch 82/100\n",
            "8/8 [==============================] - 5s 768ms/step - loss: 9.9176e-05 - acc: 1.0000 - val_loss: 2.8251 - val_acc: 0.8477\n",
            "Epoch 83/100\n",
            "8/8 [==============================] - 6s 726ms/step - loss: 7.0391e-05 - acc: 1.0000 - val_loss: 2.8653 - val_acc: 0.8477\n",
            "Epoch 84/100\n",
            "8/8 [==============================] - 5s 676ms/step - loss: 5.7255e-05 - acc: 1.0000 - val_loss: 2.8951 - val_acc: 0.8477\n",
            "Epoch 85/100\n",
            "8/8 [==============================] - 5s 681ms/step - loss: 4.7152e-05 - acc: 1.0000 - val_loss: 3.0290 - val_acc: 0.8477\n",
            "Epoch 86/100\n",
            "8/8 [==============================] - 5s 678ms/step - loss: 3.1821e-05 - acc: 1.0000 - val_loss: 3.0763 - val_acc: 0.8516\n",
            "Epoch 87/100\n",
            "8/8 [==============================] - 5s 675ms/step - loss: 2.5372e-05 - acc: 1.0000 - val_loss: 3.0990 - val_acc: 0.8555\n",
            "Epoch 88/100\n",
            "8/8 [==============================] - 6s 693ms/step - loss: 2.1469e-05 - acc: 1.0000 - val_loss: 3.1297 - val_acc: 0.8594\n",
            "Epoch 89/100\n",
            "8/8 [==============================] - 5s 676ms/step - loss: 1.8213e-05 - acc: 1.0000 - val_loss: 3.2246 - val_acc: 0.8555\n",
            "Epoch 90/100\n",
            "8/8 [==============================] - 5s 679ms/step - loss: 1.5878e-05 - acc: 1.0000 - val_loss: 3.3730 - val_acc: 0.8477\n",
            "Epoch 91/100\n",
            "8/8 [==============================] - 6s 732ms/step - loss: 1.1266e-05 - acc: 1.0000 - val_loss: 3.3293 - val_acc: 0.8594\n",
            "Epoch 92/100\n",
            "8/8 [==============================] - 5s 677ms/step - loss: 8.5802e-06 - acc: 1.0000 - val_loss: 3.5151 - val_acc: 0.8516\n",
            "Epoch 93/100\n",
            "8/8 [==============================] - 5s 674ms/step - loss: 1.0269e-05 - acc: 1.0000 - val_loss: 4.2167 - val_acc: 0.8320\n",
            "Epoch 94/100\n",
            "8/8 [==============================] - 5s 767ms/step - loss: 0.2302 - acc: 0.9622 - val_loss: 3.6968 - val_acc: 0.8359\n",
            "Epoch 95/100\n",
            "8/8 [==============================] - 5s 676ms/step - loss: 6.0945e-04 - acc: 1.0000 - val_loss: 3.6024 - val_acc: 0.8359\n",
            "Epoch 96/100\n",
            "8/8 [==============================] - 5s 769ms/step - loss: 3.6166e-04 - acc: 1.0000 - val_loss: 3.5290 - val_acc: 0.8359\n",
            "Epoch 97/100\n",
            "8/8 [==============================] - 5s 682ms/step - loss: 2.3645e-04 - acc: 1.0000 - val_loss: 3.4593 - val_acc: 0.8359\n",
            "Epoch 98/100\n",
            "8/8 [==============================] - 5s 680ms/step - loss: 1.7297e-04 - acc: 1.0000 - val_loss: 3.3759 - val_acc: 0.8398\n",
            "Epoch 99/100\n",
            "8/8 [==============================] - 6s 690ms/step - loss: 1.1716e-04 - acc: 1.0000 - val_loss: 3.3017 - val_acc: 0.8398\n",
            "Epoch 100/100\n",
            "8/8 [==============================] - 5s 675ms/step - loss: 7.1017e-05 - acc: 1.0000 - val_loss: 3.2325 - val_acc: 0.8438\n"
          ],
          "name": "stdout"
        }
      ]
    },
    {
      "cell_type": "markdown",
      "metadata": {
        "id": "o6vSHzPR2ghH"
      },
      "source": [
        "## Run your Model\n",
        "\n",
        "Let's now take a look at actually running a prediction using the model. This code will allow you to choose 1 or more files from your file system, it will then upload them, and run them through the model, giving an indication of whether the object is a horse or a human. **Was the model correct? Try a couple more images and see if you can confuse it!**"
      ]
    },
    {
      "cell_type": "code",
      "metadata": {
        "id": "DoWp43WxJDNT",
        "colab": {
          "resources": {
            "http://localhost:8080/nbextensions/google.colab/files.js": {
              "data": "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",
              "ok": true,
              "headers": [
                [
                  "content-type",
                  "application/javascript"
                ]
              ],
              "status": 200,
              "status_text": ""
            }
          },
          "base_uri": "https://localhost:8080/",
          "height": 38
        },
        "outputId": "51764ffb-8842-45d1-9b52-f409c301321b"
      },
      "source": [
        "import numpy as np\n",
        "from google.colab import files\n",
        "from keras.preprocessing import image\n",
        "\n",
        "uploaded = files.upload()\n",
        "\n",
        "for fn in uploaded.keys():\n",
        " \n",
        "  # predicting images\n",
        "  path = '/content/' + fn\n",
        "  img = image.load_img(path, target_size=(100, 100))\n",
        "  x = image.img_to_array(img)\n",
        "  x = x / 255.0\n",
        "  x = np.expand_dims(x, axis=0)\n",
        "\n",
        "  image_tensor = np.vstack([x])\n",
        "  classes = model.predict(image_tensor)\n",
        "  print(classes)\n",
        "  print(classes[0])\n",
        "  if classes[0]>0.5:\n",
        "    print(fn + \" is a human\")\n",
        "  else:\n",
        "    print(fn + \" is a horse\")\n",
        " "
      ],
      "execution_count": null,
      "outputs": [
        {
          "output_type": "display_data",
          "data": {
            "text/html": [
              "\n",
              "     <input type=\"file\" id=\"files-5593018d-3c50-49e7-99d9-1cdf9efbbac7\" name=\"files[]\" multiple disabled\n",
              "        style=\"border:none\" />\n",
              "     <output id=\"result-5593018d-3c50-49e7-99d9-1cdf9efbbac7\">\n",
              "      Upload widget is only available when the cell has been executed in the\n",
              "      current browser session. Please rerun this cell to enable.\n",
              "      </output>\n",
              "      <script src=\"/nbextensions/google.colab/files.js\"></script> "
            ],
            "text/plain": [
              "<IPython.core.display.HTML object>"
            ]
          },
          "metadata": {
            "tags": []
          }
        }
      ]
    },
    {
      "cell_type": "markdown",
      "metadata": {
        "id": "D-9BosuqR3Vk"
      },
      "source": [
        "## Finally lets visualize all of the model layers!"
      ]
    },
    {
      "cell_type": "code",
      "metadata": {
        "id": "h-SUwB0bzVvc"
      },
      "source": [
        "import matplotlib.pyplot as plt\n",
        "import numpy as np\n",
        "import random\n",
        "from tensorflow.keras.preprocessing.image import img_to_array, load_img\n",
        "\n",
        "%matplotlib inline\n",
        "\n",
        "import matplotlib.pyplot as plt\n",
        "import matplotlib.image as mpimg\n",
        "\n",
        "# Let's define a new Model that will take an image as input, and will output\n",
        "# intermediate representations for all layers in the previous model after the first.\n",
        "successive_outputs = [layer.output for layer in model.layers[1:]]\n",
        "visualization_model = tf.keras.models.Model(inputs = model.input, outputs = successive_outputs)\n",
        "# Let's prepare a random input image from the training set.\n",
        "horse_img_files = [os.path.join(train_horse_dir, f) for f in train_horse_names]\n",
        "human_img_files = [os.path.join(train_human_dir, f) for f in train_human_names]\n",
        "img_path = random.choice(horse_img_files + human_img_files)\n",
        "# uncomment the following line if you want to pick the Xth human file manually\n",
        "img_path = human_img_files[0]\n",
        "\n",
        "img = load_img(img_path, target_size=(100, 100))  # this is a PIL image\n",
        "x = img_to_array(img)  # Numpy array with shape (100, 100, 3)\n",
        "x = x.reshape((1,) + x.shape)  # Numpy array with shape (1, 100, 100, 3)\n",
        "\n",
        "# Rescale by 1/255\n",
        "x /= 255.0\n",
        "\n",
        "# Let's run our image through our network, thus obtaining all\n",
        "# intermediate representations for this image.\n",
        "successive_feature_maps = visualization_model.predict(x)\n",
        "\n",
        "# These are the names of the layers, so can have them as part of our plot\n",
        "layer_names = [layer.name for layer in model.layers]\n",
        "\n",
        "# Now let's display our representations\n",
        "for layer_name, feature_map in zip(layer_names, successive_feature_maps):\n",
        "  if len(feature_map.shape) == 4:\n",
        "    # Just do this for the conv / maxpool layers, not the fully-connected layers\n",
        "    n_features = feature_map.shape[-1]  # number of features in feature map\n",
        "    n_features = min(n_features,5) # limit to 5 features for easier viewing\n",
        "    # The feature map has shape (1, size, size, n_features)\n",
        "    size = feature_map.shape[1]\n",
        "    # We will tile our images in this matrix\n",
        "    display_grid = np.zeros((size, size * n_features))\n",
        "    for i in range(n_features):\n",
        "      # Postprocess the feature to make it visually palatable\n",
        "      x = feature_map[0, :, :, i]\n",
        "      x -= x.mean()\n",
        "      x /= x.std()\n",
        "      x *= 64\n",
        "      x += 128\n",
        "      x = np.clip(x, 0, 255).astype('uint8')\n",
        "      # We'll tile each filter into this big horizontal grid\n",
        "      display_grid[:, i * size : (i + 1) * size] = x\n",
        "    # Display the grid\n",
        "    scale = 20. / n_features\n",
        "    plt.figure(figsize=(scale * n_features, scale))\n",
        "    plt.title(layer_name)\n",
        "    plt.grid(False)\n",
        "    plt.imshow(display_grid, aspect='auto', cmap='viridis')"
      ],
      "execution_count": null,
      "outputs": []
    },
    {
      "cell_type": "markdown",
      "metadata": {
        "id": "j4IBgYCYooGD"
      },
      "source": [
        "## Clean Up\n",
        "\n",
        "Before running the next exercise, run the following cell to terminate the kernel and free memory resources:"
      ]
    },
    {
      "cell_type": "code",
      "metadata": {
        "id": "651IgjLyo-Jx"
      },
      "source": [
        "import os, signal\n",
        "os.kill(os.getpid(), signal.SIGKILL)"
      ],
      "execution_count": null,
      "outputs": []
    }
  ]
}