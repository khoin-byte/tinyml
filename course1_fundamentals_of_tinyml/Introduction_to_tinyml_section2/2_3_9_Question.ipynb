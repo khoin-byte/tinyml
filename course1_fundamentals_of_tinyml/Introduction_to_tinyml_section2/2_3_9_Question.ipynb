{
  "nbformat": 4,
  "nbformat_minor": 0,
  "metadata": {
    "accelerator": "GPU",
    "colab": {
      "name": "2_3_9_Question.ipynb",
      "provenance": []
    },
    "kernelspec": {
      "display_name": "Python 3",
      "language": "python",
      "name": "python3"
    },
    "language_info": {
      "codemirror_mode": {
        "name": "ipython",
        "version": 3
      },
      "file_extension": ".py",
      "mimetype": "text/x-python",
      "name": "python",
      "nbconvert_exporter": "python",
      "pygments_lexer": "ipython3",
      "version": "3.6.9"
    }
  },
  "cells": [
    {
      "cell_type": "markdown",
      "metadata": {
        "id": "iiVBUpuHXEtw"
      },
      "source": [
        "# Create a CNN to classify Cifar-10\n",
        "\n",
        "Learn about Cifar-10 here: https://www.cs.toronto.edu/~kriz/cifar.html\n",
        "\n",
        "In class you saw how to build a Convolutional Neural Network that classified Fashion MNIST. Take what you learned to build a CNN that recognizes the 10 classes of CIFAR. It will be a similar network, but there are some key differences you'll need to take into account.\n",
        "\n",
        "First, while MNIST were 28x28 monochome images (1 color channel), CIFAR are 32x32 color images (3 color channels).\n",
        "\n",
        "Second, MNIST images are simple, containing just the object, centered in the image, with no background. CIFAR ones can have the object with a background -- for example airplanes might have a cloudy sky behind them! As such you should expect your accuracy to be a bit lower. \n",
        "\n",
        "We start by setting up the problem for you."
      ]
    },
    {
      "cell_type": "code",
      "metadata": {
        "id": "6OQ_tVTaU3oo",
        "colab": {
          "base_uri": "https://localhost:8080/"
        },
        "outputId": "c5d85e70-8740-4c2c-c4a2-011f20242002"
      },
      "source": [
        "import tensorflow as tf\n",
        "\n",
        "from tensorflow.keras import datasets, layers, models\n",
        "import matplotlib.pyplot as plt\n",
        "\n",
        "(train_images, train_labels), (test_images, test_labels) = datasets.cifar10.load_data()\n",
        "\n",
        "# Normalize pixel values to be between 0 and 1\n",
        "train_images = train_images / 255.0\n",
        "test_images = test_images / 255.0"
      ],
      "execution_count": null,
      "outputs": [
        {
          "output_type": "stream",
          "text": [
            "Downloading data from https://www.cs.toronto.edu/~kriz/cifar-10-python.tar.gz\n",
            "170500096/170498071 [==============================] - 4s 0us/step\n"
          ],
          "name": "stdout"
        }
      ]
    },
    {
      "cell_type": "markdown",
      "metadata": {
        "id": "7-JS-y1Fc-Q6"
      },
      "source": [
        "We then definte some of the model for you but leave most of it for you to fill in! \n",
        "\n",
        "*A hint: your model may want to learn some high level features and then classify them.*"
      ]
    },
    {
      "cell_type": "code",
      "metadata": {
        "id": "law2hNzdVA16"
      },
      "source": [
        "FIRST_LAYER = layers.Conv2D(32, (3, 3), activation='relu', input_shape=(32, 32, 3))\n",
        "HIDDEN_LAYER_TYPE_1 = layers.MaxPooling2D((2, 2))\n",
        "HIDDEN_LAYER_TYPE_2 = layers.Conv2D(64, (3, 3), activation='relu')\n",
        "HIDDEN_LAYER_TYPE_3 = layers.MaxPooling2D((2, 2))\n",
        "HIDDEN_LAYER_TYPE_4 = layers.Conv2D(64, (3, 3), activation='relu')\n",
        "HIDDEN_LAYER_TYPE_5 = layers.Dense(64, activation='relu')\n",
        "LAST_LAYER = layers.Dense(10)\n",
        "model = models.Sequential([\n",
        "       FIRST_LAYER,\n",
        "       HIDDEN_LAYER_TYPE_1,\n",
        "       HIDDEN_LAYER_TYPE_2,\n",
        "       HIDDEN_LAYER_TYPE_3,\n",
        "       HIDDEN_LAYER_TYPE_4,\n",
        "       layers.Flatten(),\n",
        "       HIDDEN_LAYER_TYPE_5,\n",
        "       LAST_LAYER,\n",
        "])"
      ],
      "execution_count": null,
      "outputs": []
    },
    {
      "cell_type": "markdown",
      "metadata": {
        "id": "bTtnM9j-c-Q_"
      },
      "source": [
        "You then need to define loss function. And you can then train your model. Once training is done you'll see a plot of training and validation accuracy. You'll know you have a reasonable model with a reasonable loss funciton if your final training accuracy ends up in the 70s (or possibly higher).\n",
        "\n",
        "*A hint: your model may want to learn different categories.*"
      ]
    },
    {
      "cell_type": "code",
      "metadata": {
        "id": "Dxq2JU7dVIEX",
        "colab": {
          "base_uri": "https://localhost:8080/",
          "height": 975
        },
        "outputId": "43d75965-a405-4710-f772-d85f887e5818"
      },
      "source": [
        "LOSS = tf.keras.losses.SparseCategoricalCrossentropy(from_logits=True)\n",
        "NUM_EPOCHS = 20 #You can change this value if you like to experiment with it to get better accuracy\n",
        "\n",
        "# Compile the model\n",
        "model.compile(optimizer='sgd',\n",
        "              loss=LOSS,\n",
        "              metrics=['accuracy'])\n",
        "\n",
        "# Fit the model\n",
        "history = model.fit(train_images, train_labels, epochs=NUM_EPOCHS, \n",
        "                    validation_data=(test_images, test_labels))\n",
        "\n",
        "# summarize history for accuracy\n",
        "plt.plot(history.history['accuracy'])\n",
        "plt.plot(history.history['val_accuracy'])\n",
        "plt.title('model accuracy')\n",
        "plt.ylabel('accuracy')\n",
        "plt.xlabel('epoch')\n",
        "plt.legend(['train', 'test'], loc='upper left')\n",
        "plt.xlim([0,NUM_EPOCHS])\n",
        "plt.ylim([0.4,1.0])\n",
        "plt.show()"
      ],
      "execution_count": null,
      "outputs": [
        {
          "output_type": "stream",
          "text": [
            "Epoch 1/20\n",
            "1563/1563 [==============================] - 35s 4ms/step - loss: 2.0474 - accuracy: 0.2465 - val_loss: 1.8579 - val_accuracy: 0.3245\n",
            "Epoch 2/20\n",
            "1563/1563 [==============================] - 5s 3ms/step - loss: 1.6608 - accuracy: 0.3992 - val_loss: 1.5807 - val_accuracy: 0.4242\n",
            "Epoch 3/20\n",
            "1563/1563 [==============================] - 5s 3ms/step - loss: 1.4816 - accuracy: 0.4646 - val_loss: 1.4504 - val_accuracy: 0.4739\n",
            "Epoch 4/20\n",
            "1563/1563 [==============================] - 5s 3ms/step - loss: 1.3621 - accuracy: 0.5122 - val_loss: 1.4993 - val_accuracy: 0.4546\n",
            "Epoch 5/20\n",
            "1563/1563 [==============================] - 5s 3ms/step - loss: 1.2736 - accuracy: 0.5456 - val_loss: 1.2745 - val_accuracy: 0.5520\n",
            "Epoch 6/20\n",
            "1563/1563 [==============================] - 5s 3ms/step - loss: 1.1961 - accuracy: 0.5776 - val_loss: 1.2607 - val_accuracy: 0.5442\n",
            "Epoch 7/20\n",
            "1563/1563 [==============================] - 6s 4ms/step - loss: 1.1309 - accuracy: 0.6006 - val_loss: 1.1210 - val_accuracy: 0.5995\n",
            "Epoch 8/20\n",
            "1563/1563 [==============================] - 5s 3ms/step - loss: 1.0750 - accuracy: 0.6232 - val_loss: 1.3253 - val_accuracy: 0.5368\n",
            "Epoch 9/20\n",
            "1563/1563 [==============================] - 6s 4ms/step - loss: 1.0277 - accuracy: 0.6398 - val_loss: 1.1066 - val_accuracy: 0.6108\n",
            "Epoch 10/20\n",
            "1563/1563 [==============================] - 6s 4ms/step - loss: 0.9827 - accuracy: 0.6581 - val_loss: 1.1051 - val_accuracy: 0.6151\n",
            "Epoch 11/20\n",
            "1563/1563 [==============================] - 6s 4ms/step - loss: 0.9441 - accuracy: 0.6696 - val_loss: 1.1498 - val_accuracy: 0.5905\n",
            "Epoch 12/20\n",
            "1563/1563 [==============================] - 5s 3ms/step - loss: 0.9090 - accuracy: 0.6843 - val_loss: 1.0264 - val_accuracy: 0.6433\n",
            "Epoch 13/20\n",
            "1563/1563 [==============================] - 5s 3ms/step - loss: 0.8739 - accuracy: 0.6963 - val_loss: 0.9613 - val_accuracy: 0.6620\n",
            "Epoch 14/20\n",
            "1563/1563 [==============================] - 5s 3ms/step - loss: 0.8424 - accuracy: 0.7088 - val_loss: 0.9349 - val_accuracy: 0.6767\n",
            "Epoch 15/20\n",
            "1563/1563 [==============================] - 5s 3ms/step - loss: 0.8135 - accuracy: 0.7155 - val_loss: 0.9837 - val_accuracy: 0.6563\n",
            "Epoch 16/20\n",
            "1563/1563 [==============================] - 5s 3ms/step - loss: 0.7877 - accuracy: 0.7252 - val_loss: 0.9161 - val_accuracy: 0.6822\n",
            "Epoch 17/20\n",
            "1563/1563 [==============================] - 5s 3ms/step - loss: 0.7620 - accuracy: 0.7343 - val_loss: 1.0200 - val_accuracy: 0.6545\n",
            "Epoch 18/20\n",
            "1563/1563 [==============================] - 5s 3ms/step - loss: 0.7345 - accuracy: 0.7412 - val_loss: 0.9175 - val_accuracy: 0.6866\n",
            "Epoch 19/20\n",
            "1563/1563 [==============================] - 5s 3ms/step - loss: 0.7101 - accuracy: 0.7525 - val_loss: 1.0053 - val_accuracy: 0.6592\n",
            "Epoch 20/20\n",
            "1563/1563 [==============================] - 5s 3ms/step - loss: 0.6869 - accuracy: 0.7606 - val_loss: 0.9619 - val_accuracy: 0.6806\n"
          ],
          "name": "stdout"
        },
        {
          "output_type": "display_data",
          "data": {
            "image/png": "[encoded data removed]",
            "text/plain": [
              "<Figure size 432x288 with 1 Axes>"
            ]
          },
          "metadata": {
            "tags": [],
            "needs_background": "light"
          }
        }
      ]
    },
    {
      "cell_type": "markdown",
      "metadata": {
        "id": "0UCWsSJuc-RJ"
      },
      "source": [
        "Finally, pick a better optimizer. And re-train your model. You'll know you have a reasonable model with a reasonable loss funciton and optimizer if your final training accuracy ends up in the 80s (or possibly higher).\n",
        "\n",
        "*A hint: your model may want to learn adaptively.*"
      ]
    },
    {
      "cell_type": "code",
      "metadata": {
        "id": "vH3zWkVgc-RK",
        "colab": {
          "base_uri": "https://localhost:8080/",
          "height": 975
        },
        "outputId": "ce16098b-baa4-4fbe-e3d4-7cd0ad460305"
      },
      "source": [
        "OPTIMIZER = 'adam'\n",
        "\n",
        "# Compile the model\n",
        "model.compile(optimizer=OPTIMIZER,\n",
        "              loss=LOSS,\n",
        "              metrics=['accuracy'])\n",
        "\n",
        "# Fit the model\n",
        "history = model.fit(train_images, train_labels, epochs=NUM_EPOCHS, \n",
        "                    validation_data=(test_images, test_labels))\n",
        "\n",
        "# summarize history for accuracy\n",
        "plt.plot(history.history['accuracy'])\n",
        "plt.plot(history.history['val_accuracy'])\n",
        "plt.title('model accuracy')\n",
        "plt.ylabel('accuracy')\n",
        "plt.xlabel('epoch')\n",
        "plt.legend(['train', 'test'], loc='upper left')\n",
        "plt.xlim([0,NUM_EPOCHS])\n",
        "plt.ylim([0.4,1.0])\n",
        "plt.show()"
      ],
      "execution_count": null,
      "outputs": [
        {
          "output_type": "stream",
          "text": [
            "Epoch 1/20\n",
            "1563/1563 [==============================] - 6s 4ms/step - loss: 0.8653 - accuracy: 0.6987 - val_loss: 0.9500 - val_accuracy: 0.6737\n",
            "Epoch 2/20\n",
            "1563/1563 [==============================] - 6s 4ms/step - loss: 0.7776 - accuracy: 0.7269 - val_loss: 0.8819 - val_accuracy: 0.7046\n",
            "Epoch 3/20\n",
            "1563/1563 [==============================] - 6s 4ms/step - loss: 0.6953 - accuracy: 0.7573 - val_loss: 0.8793 - val_accuracy: 0.7039\n",
            "Epoch 4/20\n",
            "1563/1563 [==============================] - 5s 3ms/step - loss: 0.6241 - accuracy: 0.7799 - val_loss: 0.8728 - val_accuracy: 0.7055\n",
            "Epoch 5/20\n",
            "1563/1563 [==============================] - 5s 4ms/step - loss: 0.5551 - accuracy: 0.8038 - val_loss: 0.8720 - val_accuracy: 0.7128\n",
            "Epoch 6/20\n",
            "1563/1563 [==============================] - 5s 4ms/step - loss: 0.4990 - accuracy: 0.8236 - val_loss: 0.8988 - val_accuracy: 0.7151\n",
            "Epoch 7/20\n",
            "1563/1563 [==============================] - 5s 4ms/step - loss: 0.4416 - accuracy: 0.8455 - val_loss: 0.9719 - val_accuracy: 0.7107\n",
            "Epoch 8/20\n",
            "1563/1563 [==============================] - 5s 4ms/step - loss: 0.3906 - accuracy: 0.8619 - val_loss: 1.0234 - val_accuracy: 0.7080\n",
            "Epoch 9/20\n",
            "1563/1563 [==============================] - 5s 4ms/step - loss: 0.3517 - accuracy: 0.8758 - val_loss: 1.0656 - val_accuracy: 0.7101\n",
            "Epoch 10/20\n",
            "1563/1563 [==============================] - 6s 4ms/step - loss: 0.3092 - accuracy: 0.8908 - val_loss: 1.1861 - val_accuracy: 0.7045\n",
            "Epoch 11/20\n",
            "1563/1563 [==============================] - 6s 4ms/step - loss: 0.2808 - accuracy: 0.8993 - val_loss: 1.1763 - val_accuracy: 0.7098\n",
            "Epoch 12/20\n",
            "1563/1563 [==============================] - 6s 4ms/step - loss: 0.2522 - accuracy: 0.9110 - val_loss: 1.2678 - val_accuracy: 0.7121\n",
            "Epoch 13/20\n",
            "1563/1563 [==============================] - 5s 4ms/step - loss: 0.2279 - accuracy: 0.9183 - val_loss: 1.4061 - val_accuracy: 0.6964\n",
            "Epoch 14/20\n",
            "1563/1563 [==============================] - 6s 4ms/step - loss: 0.2008 - accuracy: 0.9267 - val_loss: 1.4986 - val_accuracy: 0.6955\n",
            "Epoch 15/20\n",
            "1563/1563 [==============================] - 5s 4ms/step - loss: 0.1946 - accuracy: 0.9313 - val_loss: 1.5403 - val_accuracy: 0.6968\n",
            "Epoch 16/20\n",
            "1563/1563 [==============================] - 6s 4ms/step - loss: 0.1793 - accuracy: 0.9361 - val_loss: 1.5978 - val_accuracy: 0.7007\n",
            "Epoch 17/20\n",
            "1563/1563 [==============================] - 6s 4ms/step - loss: 0.1676 - accuracy: 0.9406 - val_loss: 1.6433 - val_accuracy: 0.6967\n",
            "Epoch 18/20\n",
            "1563/1563 [==============================] - 6s 4ms/step - loss: 0.1607 - accuracy: 0.9437 - val_loss: 1.6247 - val_accuracy: 0.6985\n",
            "Epoch 19/20\n",
            "1563/1563 [==============================] - 6s 4ms/step - loss: 0.1519 - accuracy: 0.9468 - val_loss: 1.7441 - val_accuracy: 0.6970\n",
            "Epoch 20/20\n",
            "1563/1563 [==============================] - 5s 3ms/step - loss: 0.1479 - accuracy: 0.9481 - val_loss: 1.8305 - val_accuracy: 0.6973\n"
          ],
          "name": "stdout"
        },
        {
          "output_type": "display_data",
          "data": {
            "image/png": "[encoded data removed]",
            "text/plain": [
              "<Figure size 432x288 with 1 Axes>"
            ]
          },
          "metadata": {
            "tags": [],
            "needs_background": "light"
          }
        }
      ]
    },
    {
      "cell_type": "markdown",
      "metadata": {
        "id": "Jr7i_ZQAge55"
      },
      "source": [
        "Note, from the above training acc plots, we're overfitting!"
      ]
    }
  ]
}